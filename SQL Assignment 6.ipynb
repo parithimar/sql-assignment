{
 "cells": [
  {
   "cell_type": "code",
   "execution_count": null,
   "id": "af54c723",
   "metadata": {},
   "outputs": [],
   "source": [
    "Write an SQL query to print details of the Workers who have joined in Feb’2014.\n",
    "\n",
    "Select * from Worker where year(JOINING_DATE) = 2014 and month(JOINING_DATE) = 2;"
   ]
  },
  {
   "cell_type": "code",
   "execution_count": null,
   "id": "fac6a774",
   "metadata": {},
   "outputs": [],
   "source": [
    "Write an SQL query to fetch duplicate records having matching data in some fields of\n",
    "a table.\n",
    "\n",
    "SELECT a.*\n",
    "FROM users a\n",
    "JOIN (SELECT username, email, COUNT(*)\n",
    "FROM users \n",
    "GROUP BY username, email\n",
    "HAVING count(*) > 1 ) b\n",
    "ON a.username = b.username\n",
    "AND a.email = b.email\n",
    "ORDER BY a.email"
   ]
  },
  {
   "cell_type": "code",
   "execution_count": null,
   "id": "f4217213",
   "metadata": {},
   "outputs": [],
   "source": [
    "How to remove duplicate rows from Employees table.\n",
    "\n",
    "WITH EMPLOYEE CTE AS\n",
    "( SELECT * , ROW_NUMBER() OVER(PARTITION.BY ID ORDER BY ID)AS ROW_NUMBER\n",
    "FROM EMPLOYEE\n",
    ")\n",
    "DELETE FROM EMPLOYEE AS CTE WHERE ROW_NUMBER>1\n",
    "SELECT * FROM EMPLOYEE"
   ]
  },
  {
   "cell_type": "code",
   "execution_count": null,
   "id": "1c4b47d9",
   "metadata": {},
   "outputs": [],
   "source": []
  }
 ],
 "metadata": {
  "kernelspec": {
   "display_name": "Python 3",
   "language": "python",
   "name": "python3"
  },
  "language_info": {
   "codemirror_mode": {
    "name": "ipython",
    "version": 3
   },
   "file_extension": ".py",
   "mimetype": "text/x-python",
   "name": "python",
   "nbconvert_exporter": "python",
   "pygments_lexer": "ipython3",
   "version": "3.8.8"
  }
 },
 "nbformat": 4,
 "nbformat_minor": 5
}
