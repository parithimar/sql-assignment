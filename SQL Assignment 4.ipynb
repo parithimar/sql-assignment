{
 "cells": [
  {
   "cell_type": "code",
   "execution_count": null,
   "id": "6f432cd5",
   "metadata": {},
   "outputs": [],
   "source": [
    "Write an SQL query to print the FIRST_NAME from Worker table after replacing ‘a’\n",
    "with ‘A’.\n",
    "\n",
    "Select REPLACE(FIRST_NAME,'a','A') from Worker;"
   ]
  },
  {
   "cell_type": "code",
   "execution_count": null,
   "id": "20a14427",
   "metadata": {},
   "outputs": [],
   "source": [
    "Write an SQL query to print all Worker details from the Worker table order by\n",
    "FIRST_NAME Ascending and DEPARTMENT Descending.\n",
    "\n",
    "Select * from Worker order by FIRST_NAME asc,DEPARTMENT desc;"
   ]
  },
  {
   "cell_type": "code",
   "execution_count": null,
   "id": "614bc084",
   "metadata": {},
   "outputs": [],
   "source": [
    "Write an SQL query to fetch the names of workers who earn the highest salary.\n",
    "\n",
    "SELECT FIRST_NAME, SALARY from Worker WHERE SALARY=(SELECT max(SALARY) from Worker);"
   ]
  },
  {
   "cell_type": "code",
   "execution_count": null,
   "id": "04ca9651",
   "metadata": {},
   "outputs": [],
   "source": []
  }
 ],
 "metadata": {
  "kernelspec": {
   "display_name": "Python 3",
   "language": "python",
   "name": "python3"
  },
  "language_info": {
   "codemirror_mode": {
    "name": "ipython",
    "version": 3
   },
   "file_extension": ".py",
   "mimetype": "text/x-python",
   "name": "python",
   "nbconvert_exporter": "python",
   "pygments_lexer": "ipython3",
   "version": "3.8.8"
  }
 },
 "nbformat": 4,
 "nbformat_minor": 5
}
