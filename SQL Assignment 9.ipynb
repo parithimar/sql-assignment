{
 "cells": [
  {
   "cell_type": "code",
   "execution_count": null,
   "id": "fa3d0ab5",
   "metadata": {},
   "outputs": [],
   "source": [
    "Write an SQL query to show the top n (say 10) records of a table.\n",
    "\n",
    "SELECT * FROM Worker ORDER BY Salary DESC LIMIT 10;"
   ]
  },
  {
   "cell_type": "code",
   "execution_count": null,
   "id": "6c5a347c",
   "metadata": {},
   "outputs": [],
   "source": [
    "Write an SQL query to determine the nth (say n=5) highest salary from a table.\n",
    "\n",
    "SELECT TOP 1 Salary\n",
    "FROM (\n",
    " SELECT DISTINCT TOP n Salary\n",
    " FROM Worker \n",
    " ORDER BY Salary DESC\n",
    " )\n",
    "ORDER BY Salary ASC;"
   ]
  },
  {
   "cell_type": "code",
   "execution_count": null,
   "id": "63ed6c72",
   "metadata": {},
   "outputs": [],
   "source": []
  }
 ],
 "metadata": {
  "kernelspec": {
   "display_name": "Python 3",
   "language": "python",
   "name": "python3"
  },
  "language_info": {
   "codemirror_mode": {
    "name": "ipython",
    "version": 3
   },
   "file_extension": ".py",
   "mimetype": "text/x-python",
   "name": "python",
   "nbconvert_exporter": "python",
   "pygments_lexer": "ipython3",
   "version": "3.8.8"
  }
 },
 "nbformat": 4,
 "nbformat_minor": 5
}
