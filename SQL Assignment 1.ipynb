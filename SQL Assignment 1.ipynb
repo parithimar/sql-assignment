{
 "cells": [
  {
   "cell_type": "code",
   "execution_count": null,
   "id": "953a2648",
   "metadata": {},
   "outputs": [],
   "source": [
    "Write an SQL query to fetch “FIRST_NAME” from Worker table using the alias\n",
    "name as <WORKER_NAME>.\n",
    "\n",
    "Select FIRST_NAME AS WORKER_NAME from Worker;\n",
    "\n"
   ]
  },
  {
   "cell_type": "code",
   "execution_count": null,
   "id": "946582df",
   "metadata": {},
   "outputs": [],
   "source": [
    "Write an SQL query to fetch unique values of DEPARTMENT from Worker table.\n",
    "\n",
    "Select distinct DEPARTMENT from Worker;"
   ]
  },
  {
   "cell_type": "code",
   "execution_count": null,
   "id": "67332f7f",
   "metadata": {},
   "outputs": [],
   "source": [
    "Write an SQL query to show the last 5 record from a table.\n",
    "\n",
    "SELECT * FROM Worker ORDER BY Salary ASEC LIMIT 10;"
   ]
  },
  {
   "cell_type": "code",
   "execution_count": null,
   "id": "530ef534",
   "metadata": {},
   "outputs": [],
   "source": []
  },
  {
   "cell_type": "code",
   "execution_count": null,
   "id": "212ef07b",
   "metadata": {},
   "outputs": [],
   "source": []
  },
  {
   "cell_type": "code",
   "execution_count": null,
   "id": "3ce37245",
   "metadata": {},
   "outputs": [],
   "source": []
  }
 ],
 "metadata": {
  "kernelspec": {
   "display_name": "Python 3",
   "language": "python",
   "name": "python3"
  },
  "language_info": {
   "codemirror_mode": {
    "name": "ipython",
    "version": 3
   },
   "file_extension": ".py",
   "mimetype": "text/x-python",
   "name": "python",
   "nbconvert_exporter": "python",
   "pygments_lexer": "ipython3",
   "version": "3.8.8"
  }
 },
 "nbformat": 4,
 "nbformat_minor": 5
}
