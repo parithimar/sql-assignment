{
 "cells": [
  {
   "cell_type": "code",
   "execution_count": null,
   "id": "ce3fa084",
   "metadata": {},
   "outputs": [],
   "source": [
    "Write an SQL query to show only odd rows from a table.\n",
    "\n",
    "SELECT * FROM Worker WHERE MOD (WORKER_ID, 2) <> 0;"
   ]
  },
  {
   "cell_type": "code",
   "execution_count": null,
   "id": "f0bee8b7",
   "metadata": {},
   "outputs": [],
   "source": [
    "Write an SQL query to clone a new table from another table.\n",
    "\n",
    "SELECT * INTO WorkerClone FROM Worker;\n"
   ]
  },
  {
   "cell_type": "code",
   "execution_count": null,
   "id": "61554cc3",
   "metadata": {},
   "outputs": [],
   "source": []
  },
  {
   "cell_type": "code",
   "execution_count": null,
   "id": "c186cffe",
   "metadata": {},
   "outputs": [],
   "source": []
  }
 ],
 "metadata": {
  "kernelspec": {
   "display_name": "Python 3",
   "language": "python",
   "name": "python3"
  },
  "language_info": {
   "codemirror_mode": {
    "name": "ipython",
    "version": 3
   },
   "file_extension": ".py",
   "mimetype": "text/x-python",
   "name": "python",
   "nbconvert_exporter": "python",
   "pygments_lexer": "ipython3",
   "version": "3.8.8"
  }
 },
 "nbformat": 4,
 "nbformat_minor": 5
}
