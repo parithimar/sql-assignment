{
 "cells": [
  {
   "cell_type": "code",
   "execution_count": null,
   "id": "f241d93a",
   "metadata": {},
   "outputs": [],
   "source": [
    "Write an SQL query to fetch intersecting records of two tables.\n",
    "\n",
    "(SELECT * FROM Worker)\n",
    "INTERSECT\n",
    "(SELECT * FROM WorkerClone);"
   ]
  },
  {
   "cell_type": "code",
   "execution_count": null,
   "id": "0b1d1efd",
   "metadata": {},
   "outputs": [],
   "source": [
    "Write an SQL query to show records from one table that another table does not\n",
    "have.\n",
    "\n",
    "SELECT * FROM Worker\n",
    "MINUS\n",
    "SELECT * FROM Title;"
   ]
  }
 ],
 "metadata": {
  "kernelspec": {
   "display_name": "Python 3",
   "language": "python",
   "name": "python3"
  },
  "language_info": {
   "codemirror_mode": {
    "name": "ipython",
    "version": 3
   },
   "file_extension": ".py",
   "mimetype": "text/x-python",
   "name": "python",
   "nbconvert_exporter": "python",
   "pygments_lexer": "ipython3",
   "version": "3.8.8"
  }
 },
 "nbformat": 4,
 "nbformat_minor": 5
}
