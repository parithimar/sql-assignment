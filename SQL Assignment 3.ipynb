{
 "cells": [
  {
   "cell_type": "code",
   "execution_count": null,
   "id": "58d7a95d",
   "metadata": {},
   "outputs": [],
   "source": [
    "Write an SQL query to print the FIRST_NAME from Worker table after removing\n",
    "white spaces from the right side.\n",
    "\n",
    "Select RTRIM(FIRST_NAME) from Worker;"
   ]
  },
  {
   "cell_type": "code",
   "execution_count": null,
   "id": "28e2ffa2",
   "metadata": {},
   "outputs": [],
   "source": [
    "Write an SQL query that fetches the unique values of DEPARTMENT from Worker\n",
    "table and prints its length.\n",
    "\n",
    "Select distinct length(DEPARTMENT) from Worker;"
   ]
  },
  {
   "cell_type": "code",
   "execution_count": null,
   "id": "d21e52fe",
   "metadata": {},
   "outputs": [],
   "source": [
    "Write an SQL query to fetch nth max salaries from a table.\n",
    "\n",
    "\n",
    "SELECT TOP 1 Salary\n",
    "FROM (\n",
    " SELECT DISTINCT TOP n Salary\n",
    " FROM Worker \n",
    " ORDER BY Salary DESC\n",
    " )\n",
    "ORDER BY Salary ASC;"
   ]
  },
  {
   "cell_type": "code",
   "execution_count": null,
   "id": "e66b74e7",
   "metadata": {},
   "outputs": [],
   "source": []
  }
 ],
 "metadata": {
  "kernelspec": {
   "display_name": "Python 3",
   "language": "python",
   "name": "python3"
  },
  "language_info": {
   "codemirror_mode": {
    "name": "ipython",
    "version": 3
   },
   "file_extension": ".py",
   "mimetype": "text/x-python",
   "name": "python",
   "nbconvert_exporter": "python",
   "pygments_lexer": "ipython3",
   "version": "3.8.8"
  }
 },
 "nbformat": 4,
 "nbformat_minor": 5
}
