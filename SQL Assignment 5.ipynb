{
 "cells": [
  {
   "cell_type": "code",
   "execution_count": null,
   "id": "240b6b45",
   "metadata": {},
   "outputs": [],
   "source": [
    "Write an SQL query to print details of workers excluding first names, “Vipul” and\n",
    "“Satish” from Worker table.\n",
    "\n",
    "\n",
    "Select * from Worker where FIRST_NAME not in ('Vipul','Satish');"
   ]
  },
  {
   "cell_type": "code",
   "execution_count": null,
   "id": "174e2e5a",
   "metadata": {},
   "outputs": [],
   "source": [
    "Write an SQL query to print details of the Workers whose FIRST_NAME ends with\n",
    "‘h’ and contains six alphabets.\n",
    "\n",
    "Select * from Worker where FIRST_NAME like '_____h';"
   ]
  },
  {
   "cell_type": "code",
   "execution_count": null,
   "id": "da1c44dd",
   "metadata": {},
   "outputs": [],
   "source": [
    "Write a query to validate Email of Employee.\n",
    "\n",
    "SELECT * FROM student\n",
    "WHERE s_email LIKE '%@gmail.com';\n"
   ]
  },
  {
   "cell_type": "code",
   "execution_count": null,
   "id": "c57df8a3",
   "metadata": {},
   "outputs": [],
   "source": []
  }
 ],
 "metadata": {
  "kernelspec": {
   "display_name": "Python 3",
   "language": "python",
   "name": "python3"
  },
  "language_info": {
   "codemirror_mode": {
    "name": "ipython",
    "version": 3
   },
   "file_extension": ".py",
   "mimetype": "text/x-python",
   "name": "python",
   "nbconvert_exporter": "python",
   "pygments_lexer": "ipython3",
   "version": "3.8.8"
  }
 },
 "nbformat": 4,
 "nbformat_minor": 5
}
